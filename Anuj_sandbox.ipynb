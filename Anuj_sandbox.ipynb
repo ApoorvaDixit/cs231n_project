{
 "cells": [
  {
   "cell_type": "code",
   "execution_count": 5,
   "metadata": {},
   "outputs": [],
   "source": [
    "from torch.utils.data import Dataset, DataLoader\n",
    "import sys\n",
    "import os\n",
    "import torch\n",
    "from torch import optim\n",
    "from torch.optim.lr_scheduler import ReduceLROnPlateau\n",
    "from torch.autograd import Variable\n",
    "import time\n",
    "from tqdm import tqdm \n",
    "\n",
    "sys.path.append('src/')\n",
    "from data.dataset_utils import TripletDataLoader\n",
    "#from model_architectures.googlenet.googtilenet import make_googtilenet\n",
    "from model_architectures.googlenet.googtilenet_v3 import make_googtilenet\n",
    "from training import train_triplet_epoch\n",
    "\n",
    "img_type = 'naip'\n",
    "os.environ['CUDA_VISIBLE_DEVICES'] = '0'\n",
    "\n",
    "cuda = torch.cuda.is_available()\n",
    "in_channels = 4\n",
    "z_dim = 512\n",
    "\n",
    "def prep_triplets(triplets, cuda):\n",
    "    \"\"\"\n",
    "    Takes a batch of triplets and converts them into Pytorch variables \n",
    "    and puts them on GPU if available.\n",
    "    \"\"\"\n",
    "    a, n, d = (Variable(triplets['anchor']), Variable(triplets['neighbor']), Variable(triplets['distant']))\n",
    "    if cuda:\n",
    "    \ta, n, d = (a.cuda(), n.cuda(), d.cuda())\n",
    "    return (a, n, d)\n"
   ]
  },
  {
   "cell_type": "code",
   "execution_count": 9,
   "metadata": {},
   "outputs": [
    {
     "name": "stdout",
     "output_type": "stream",
     "text": [
      "GoogTiLeNet set up complete.\n",
      "Optimizer set up complete.\n",
      "73894\n",
      "Dataset set up.\n"
     ]
    },
    {
     "name": "stderr",
     "output_type": "stream",
     "text": [
      "training loop within epoch:   0%|          | 1/1155 [00:04<1:28:21,  4.59s/it]\n"
     ]
    },
    {
     "ename": "OutOfMemoryError",
     "evalue": "CUDA out of memory. Tried to allocate 20.00 MiB (GPU 0; 14.56 GiB total capacity; 2.06 GiB already allocated; 17.50 MiB free; 2.10 GiB reserved in total by PyTorch) If reserved memory is >> allocated memory try setting max_split_size_mb to avoid fragmentation.  See documentation for Memory Management and PYTORCH_CUDA_ALLOC_CONF",
     "output_type": "error",
     "traceback": [
      "\u001b[0;31m---------------------------------------------------------------------------\u001b[0m",
      "\u001b[0;31mOutOfMemoryError\u001b[0m                          Traceback (most recent call last)",
      "Cell \u001b[0;32mIn[9], line 29\u001b[0m\n\u001b[1;32m     27\u001b[0m optimizer\u001b[39m.\u001b[39mzero_grad()\n\u001b[1;32m     28\u001b[0m loss, l_n, l_d, l_nd, l2_loss \u001b[39m=\u001b[39m net\u001b[39m.\u001b[39mloss(p, n, d, margin\u001b[39m=\u001b[39mmargin, l2\u001b[39m=\u001b[39ml2)\n\u001b[0;32m---> 29\u001b[0m loss\u001b[39m.\u001b[39;49mbackward()\n\u001b[1;32m     30\u001b[0m \u001b[39mfor\u001b[39;00m param \u001b[39min\u001b[39;00m net\u001b[39m.\u001b[39mparameters():\n\u001b[1;32m     31\u001b[0m     \u001b[39mif\u001b[39;00m torch\u001b[39m.\u001b[39misnan(param\u001b[39m.\u001b[39mgrad)\u001b[39m.\u001b[39many() \u001b[39mor\u001b[39;00m torch\u001b[39m.\u001b[39misinf(param\u001b[39m.\u001b[39mgrad)\u001b[39m.\u001b[39many():\n",
      "File \u001b[0;32m/opt/conda/lib/python3.9/site-packages/torch/_tensor.py:487\u001b[0m, in \u001b[0;36mTensor.backward\u001b[0;34m(self, gradient, retain_graph, create_graph, inputs)\u001b[0m\n\u001b[1;32m    477\u001b[0m \u001b[39mif\u001b[39;00m has_torch_function_unary(\u001b[39mself\u001b[39m):\n\u001b[1;32m    478\u001b[0m     \u001b[39mreturn\u001b[39;00m handle_torch_function(\n\u001b[1;32m    479\u001b[0m         Tensor\u001b[39m.\u001b[39mbackward,\n\u001b[1;32m    480\u001b[0m         (\u001b[39mself\u001b[39m,),\n\u001b[0;32m   (...)\u001b[0m\n\u001b[1;32m    485\u001b[0m         inputs\u001b[39m=\u001b[39minputs,\n\u001b[1;32m    486\u001b[0m     )\n\u001b[0;32m--> 487\u001b[0m torch\u001b[39m.\u001b[39;49mautograd\u001b[39m.\u001b[39;49mbackward(\n\u001b[1;32m    488\u001b[0m     \u001b[39mself\u001b[39;49m, gradient, retain_graph, create_graph, inputs\u001b[39m=\u001b[39;49minputs\n\u001b[1;32m    489\u001b[0m )\n",
      "File \u001b[0;32m/opt/conda/lib/python3.9/site-packages/torch/autograd/__init__.py:200\u001b[0m, in \u001b[0;36mbackward\u001b[0;34m(tensors, grad_tensors, retain_graph, create_graph, grad_variables, inputs)\u001b[0m\n\u001b[1;32m    195\u001b[0m     retain_graph \u001b[39m=\u001b[39m create_graph\n\u001b[1;32m    197\u001b[0m \u001b[39m# The reason we repeat same the comment below is that\u001b[39;00m\n\u001b[1;32m    198\u001b[0m \u001b[39m# some Python versions print out the first line of a multi-line function\u001b[39;00m\n\u001b[1;32m    199\u001b[0m \u001b[39m# calls in the traceback and some print out the last line\u001b[39;00m\n\u001b[0;32m--> 200\u001b[0m Variable\u001b[39m.\u001b[39;49m_execution_engine\u001b[39m.\u001b[39;49mrun_backward(  \u001b[39m# Calls into the C++ engine to run the backward pass\u001b[39;49;00m\n\u001b[1;32m    201\u001b[0m     tensors, grad_tensors_, retain_graph, create_graph, inputs,\n\u001b[1;32m    202\u001b[0m     allow_unreachable\u001b[39m=\u001b[39;49m\u001b[39mTrue\u001b[39;49;00m, accumulate_grad\u001b[39m=\u001b[39;49m\u001b[39mTrue\u001b[39;49;00m)\n",
      "\u001b[0;31mOutOfMemoryError\u001b[0m: CUDA out of memory. Tried to allocate 20.00 MiB (GPU 0; 14.56 GiB total capacity; 2.06 GiB already allocated; 17.50 MiB free; 2.10 GiB reserved in total by PyTorch) If reserved memory is >> allocated memory try setting max_split_size_mb to avoid fragmentation.  See documentation for Memory Management and PYTORCH_CUDA_ALLOC_CONF"
     ]
    }
   ],
   "source": [
    "net = make_googtilenet(in_channels=in_channels, z_dim=z_dim)\n",
    "if cuda: net.cuda()\n",
    "net.train()\n",
    "\n",
    "print('GoogTiLeNet set up complete.')\n",
    "\n",
    "lr = 1e-3\n",
    "optimizer = optim.Adam(net.parameters(), lr=lr, betas=(0.5, 0.999), weight_decay=0.01)\n",
    "# scheduler = ReduceLROnPlateau(optimizer, factor=0.1, patience=5)\n",
    "\n",
    "print('Optimizer set up complete.')\n",
    "\n",
    "dataloader = TripletDataLoader(img_type, batch_size=64)\n",
    "\n",
    "print('Dataset set up.')\n",
    "\n",
    "margin = 10\n",
    "l2 = 0.01\n",
    "print_every=100\n",
    "\n",
    "net.train()\n",
    "sum_loss, sum_l_n, sum_l_d, sum_l_nd = (0, 0, 0, 0)\n",
    "n_train, n_batches = len(dataloader.dataset), len(dataloader)\n",
    "print_sum_loss = 0\n",
    "for idx, triplets in enumerate(tqdm(dataloader, desc=\"training loop within epoch\")):\n",
    "    p, n, d = prep_triplets(triplets, cuda)\n",
    "    optimizer.zero_grad()\n",
    "    loss, l_n, l_d, l_nd, l2_loss = net.loss(p, n, d, margin=margin, l2=l2)\n",
    "    loss.backward()\n",
    "    for param in net.parameters():\n",
    "        if torch.isnan(param.grad).any() or torch.isinf(param.grad).any():\n",
    "            print(\"Gradient contains NaN or infinite values.\")\n",
    "            raise\n",
    "    optimizer.step()\n",
    "    # scheduler.step(loss)\n",
    "    for param in net.parameters():\n",
    "        if torch.isnan(param).any() or torch.isinf(param).any():\n",
    "            print(\"Parameter contains NaN or infinite values.\")\n",
    "            raise\n",
    "    sum_loss += loss.data\n",
    "    # sum_l_n += l_n.data\n",
    "    # sum_l_d += l_d.data\n",
    "    # sum_l_nd += l_nd.data\n",
    "    if (idx + 1) * dataloader.batch_size % print_every == 0:\n",
    "            print_avg_loss = (sum_loss - print_sum_loss) / (\n",
    "                print_every / dataloader.batch_size)\n",
    "            print('[{}/{} ], avg loss: {:0.4f}, last l2_loss: {:0.4f} '.format(\n",
    "                    (idx + 1) * dataloader.batch_size, n_train,\n",
    "                loss.data, l2_loss.data, l_n.data, l_d.data, l_nd.data ))\n",
    "            print_sum_loss = sum_loss\n",
    "# avg_loss = sum_loss / n_batches\n",
    "# avg_l_n = sum_l_n / n_batches\n",
    "# avg_l_d = sum_l_d / n_batches\n",
    "# avg_l_nd = sum_l_nd / n_batches\n",
    "# print('Finished epoch {}: {:0.3f}s'.format(epoch, time()-t0))\n",
    "# print('  Average loss: {:0.4f}'.format(avg_loss))\n",
    "# print('  Average l_n: {:0.4f}'.format(avg_l_n))\n",
    "# print('  Average l_d: {:0.4f}'.format(avg_l_d))\n",
    "# print('  Average l_nd: {:0.4f}\\n'.format(avg_l_nd))\n",
    "# return (avg_loss, avg_l_n, avg_l_d, avg_l_nd)"
   ]
  }
 ],
 "metadata": {
  "kernelspec": {
   "display_name": "base",
   "language": "python",
   "name": "python3"
  },
  "language_info": {
   "codemirror_mode": {
    "name": "ipython",
    "version": 3
   },
   "file_extension": ".py",
   "mimetype": "text/x-python",
   "name": "python",
   "nbconvert_exporter": "python",
   "pygments_lexer": "ipython3",
   "version": "3.9.4"
  },
  "orig_nbformat": 4
 },
 "nbformat": 4,
 "nbformat_minor": 2
}
